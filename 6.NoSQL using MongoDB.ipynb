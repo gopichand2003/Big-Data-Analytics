{
 "cells": [
  {
   "cell_type": "code",
   "execution_count": 11,
   "id": "13b73298",
   "metadata": {},
   "outputs": [],
   "source": [
    "from pymongo.mongo_client import MongoClient\n",
    "url = \"mongodb://localhost:27017\"\n",
    "client = MongoClient(url)"
   ]
  },
  {
   "cell_type": "code",
   "execution_count": 12,
   "id": "5e5f5975",
   "metadata": {},
   "outputs": [
    {
     "data": {
      "text/plain": [
       "MongoClient(host=['localhost:27017'], document_class=dict, tz_aware=False, connect=True)"
      ]
     },
     "execution_count": 12,
     "metadata": {},
     "output_type": "execute_result"
    }
   ],
   "source": [
    "client"
   ]
  },
  {
   "cell_type": "code",
   "execution_count": 13,
   "id": "47defc09",
   "metadata": {},
   "outputs": [],
   "source": [
    "db = client[\"clg\"]"
   ]
  },
  {
   "cell_type": "code",
   "execution_count": 14,
   "id": "e7669acf",
   "metadata": {},
   "outputs": [],
   "source": [
    "student_collection = db[\"student\"]"
   ]
  },
  {
   "cell_type": "code",
   "execution_count": 16,
   "id": "f168c080",
   "metadata": {},
   "outputs": [],
   "source": [
    "data = {\"name\":\"Gopi\",\n",
    "        \"age\":19,\n",
    "        \"gender\":\"male\"\n",
    "}"
   ]
  },
  {
   "cell_type": "code",
   "execution_count": 17,
   "id": "b9f1e0ec",
   "metadata": {},
   "outputs": [
    {
     "data": {
      "text/plain": [
       "<pymongo.results.InsertOneResult at 0x206804a1cf0>"
      ]
     },
     "execution_count": 17,
     "metadata": {},
     "output_type": "execute_result"
    }
   ],
   "source": [
    "student_collection.insert_one(data)"
   ]
  },
  {
   "cell_type": "code",
   "execution_count": 19,
   "id": "2542495a",
   "metadata": {},
   "outputs": [],
   "source": [
    "new = [{\"name\":\"rin\",\n",
    "      \"age\":23,\n",
    "      \"gender\":\"male\"},\n",
    "       {\"name\":\"win\",\n",
    "       \"age\":12,\n",
    "       \"gender\":\"female\"}]"
   ]
  },
  {
   "cell_type": "code",
   "execution_count": 20,
   "id": "4bc16ef7",
   "metadata": {},
   "outputs": [
    {
     "data": {
      "text/plain": [
       "<pymongo.results.InsertManyResult at 0x206ffaabf10>"
      ]
     },
     "execution_count": 20,
     "metadata": {},
     "output_type": "execute_result"
    }
   ],
   "source": [
    "student_collection.insert_many(new)"
   ]
  },
  {
   "cell_type": "code",
   "execution_count": 21,
   "id": "af06d671",
   "metadata": {},
   "outputs": [
    {
     "data": {
      "text/plain": [
       "<pymongo.cursor.Cursor at 0x206804542b0>"
      ]
     },
     "execution_count": 21,
     "metadata": {},
     "output_type": "execute_result"
    }
   ],
   "source": [
    "student_collection.find()"
   ]
  },
  {
   "cell_type": "code",
   "execution_count": 22,
   "id": "2d62144b",
   "metadata": {},
   "outputs": [],
   "source": [
    "atq={\"name\":\"Gopi\"}"
   ]
  },
  {
   "cell_type": "code",
   "execution_count": 23,
   "id": "b7dc630d",
   "metadata": {},
   "outputs": [
    {
     "data": {
      "text/plain": [
       "<pymongo.results.DeleteResult at 0x2068022d2d0>"
      ]
     },
     "execution_count": 23,
     "metadata": {},
     "output_type": "execute_result"
    }
   ],
   "source": [
    "student_collection.delete_one(atq)"
   ]
  },
  {
   "cell_type": "code",
   "execution_count": null,
   "id": "c06ae661",
   "metadata": {},
   "outputs": [],
   "source": []
  }
 ],
 "metadata": {
  "kernelspec": {
   "display_name": "Python 3 (ipykernel)",
   "language": "python",
   "name": "python3"
  },
  "language_info": {
   "codemirror_mode": {
    "name": "ipython",
    "version": 3
   },
   "file_extension": ".py",
   "mimetype": "text/x-python",
   "name": "python",
   "nbconvert_exporter": "python",
   "pygments_lexer": "ipython3",
   "version": "3.10.1"
  }
 },
 "nbformat": 4,
 "nbformat_minor": 5
}
